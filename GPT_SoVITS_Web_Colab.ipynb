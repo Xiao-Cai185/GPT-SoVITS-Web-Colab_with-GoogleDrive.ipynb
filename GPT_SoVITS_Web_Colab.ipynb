{
  "nbformat": 4,
  "nbformat_minor": 0,
  "metadata": {
    "colab": {
      "provenance": [],
      "gpuType": "T4",
      "include_colab_link": true
    },
    "kernelspec": {
      "name": "python3",
      "display_name": "Python 3"
    },
    "accelerator": "GPU"
  },
  "cells": [
    {
      "cell_type": "markdown",
      "metadata": {
        "id": "view-in-github",
        "colab_type": "text"
      },
      "source": [
        "<a href=\"https://colab.research.google.com/github/Xiao-Cai185/RVC-Boss-GPT-SoVITS-blob-main-colab_webui.ipynb/blob/main/GPT_SoVITS_Web_Colab.ipynb\" target=\"_parent\"><img src=\"https://colab.research.google.com/assets/colab-badge.svg\" alt=\"Open In Colab\"/></a>"
      ]
    },
    {
      "cell_type": "markdown",
      "source": [
        "基于[RVC-Boss/GPT-SoVITS/colab_webui.ipynb](https://github.com/RVC-Boss/GPT-SoVITS/blob/main/colab_webui.ipynb)进行了一些完善，便于结合Google Drive更快的进行数据集的上传和训练模型的下载\n",
        "\n",
        "[官方colab教程链接](https://www.yuque.com/baicaigongchang1145haoyuangong/ib3g1e/zqbopihzr6eqoyl8)\n",
        "\n",
        "Based on [RVC-Boss/GPT-SoVITS/colab_webui.ipynb](https://github.com/RVC-Boss/GPT-SoVITS/blob/main/colab_webui.ipynb), some improvements have been made to facilitate faster integration with Google Drive Upload the data set and download the training model"
      ],
      "metadata": {
        "id": "Z82XUAR8-0UZ"
      }
    },
    {
      "cell_type": "markdown",
      "source": [
        "\n",
        "\n",
        "---\n",
        "前置准备\n",
        "Preparation\n",
        "\n",
        "---\n",
        "\n"
      ],
      "metadata": {
        "id": "9xfQUVrYEn6W"
      }
    },
    {
      "cell_type": "code",
      "source": [
        "#@title STEP:0 查看CPU/GPU配置\n",
        "\n",
        "#@markdown Check CPU/GPU configuration\n",
        "!lscpu | grep -E 'Architecture|Model name|Core\\(s\\)|CPU\\(s\\):'\n",
        "!nvidia-smi"
      ],
      "metadata": {
        "id": "03vVx0mDtuwN",
        "cellView": "form"
      },
      "execution_count": null,
      "outputs": []
    },
    {
      "cell_type": "code",
      "source": [
        "#@title  挂载Google云端硬盘 / Mount Google drive\n",
        "#@markdown 加载Google云端硬盘（更快地上传数据集文件）\n",
        "\n",
        "#@markdown Mount Google drive for faster data upload\n",
        "from google.colab import drive\n",
        "drive.mount('/content/drive')\n"
      ],
      "metadata": {
        "id": "j1Q43oXND7Ih",
        "cellView": "form"
      },
      "execution_count": null,
      "outputs": []
    },
    {
      "cell_type": "code",
      "source": [
        "#@title 创建Google Drive数据集上传文件夹\n",
        "#@markdown Create Google Drive dataset upload folder\n",
        "rolename = input(\"请输入本次要训练的角色名称 Please enter the role name for this training：\")\n",
        "!mkdir -p /content/drive/MyDrive/GPT_SoVITS/raw_audio/{rolename}/\n",
        "print(\"目录创建成功 Directory created successfully!\")\n",
        "print(\"请将本次的数据集上传到 Please upload the data set for this training to:\")\n",
        "print(\"Google Drive：https://drive.google.com/drive/my-drive\")\n",
        "print(\"/GPT_SoVITS/raw_audio/%s \" % rolename)\n",
        "print(\"Web UI音频数据集对应目录 Directory of Web UI audio data set:\")\n",
        "print(\"---------------------------------------------------------\")\n",
        "print(\"/content/drive/MyDrive/GPT_SoVITS/raw_audio/%s \" % rolename)\n",
        "print(\"---------------------------------------------------------\")"
      ],
      "metadata": {
        "cellView": "form",
        "id": "44wtSO55CV1R"
      },
      "execution_count": null,
      "outputs": []
    },
    {
      "cell_type": "markdown",
      "source": [
        "---\n",
        "\n",
        "环境配置 environment\n",
        "\n",
        "---\n"
      ],
      "metadata": {
        "id": "_o6a8GS2lWQM"
      }
    },
    {
      "cell_type": "code",
      "metadata": {
        "id": "e9b7iFV3dm1f",
        "cellView": "form"
      },
      "source": [
        "#@title STEP:1.1 环境配置下载安装 (≈15min)\n",
        "!pip install -q condacolab\n",
        "#@markdown Setting up condacolab and installing packages (≈15min)\n",
        "import condacolab\n",
        "condacolab.install_from_url(\"https://repo.anaconda.com/miniconda/Miniconda3-py39_23.11.0-2-Linux-x86_64.sh\")\n",
        "%cd -q /content\n",
        "!git clone https://github.com/RVC-Boss/GPT-SoVITS\n",
        "!conda install -y -q -c pytorch -c nvidia cudatoolkit\n",
        "%cd -q /content/GPT-SoVITS\n",
        "!conda install -y -q -c conda-forge gcc gxx ffmpeg cmake -c pytorch -c nvidia\n",
        "!/usr/local/bin/pip install -r requirements.txt"
      ],
      "execution_count": null,
      "outputs": []
    },
    {
      "cell_type": "code",
      "source": [
        "#@title STEP1.2 下载预训练模型 (≈2min)\n",
        "#@markdown Download pretrained models (≈2min)\n",
        "!mkdir -p /content/GPT-SoVITS/GPT_SoVITS/pretrained_models\n",
        "!mkdir -p /content/GPT-SoVITS/tools/damo_asr/models\n",
        "!mkdir -p /content/GPT-SoVITS/tools/uvr5\n",
        "%cd /content/GPT-SoVITS/GPT_SoVITS/pretrained_models\n",
        "!git clone https://huggingface.co/lj1995/GPT-SoVITS\n",
        "%cd /content/GPT-SoVITS/tools/damo_asr/models\n",
        "!git clone https://www.modelscope.cn/damo/speech_paraformer-large_asr_nat-zh-cn-16k-common-vocab8404-pytorch.git\n",
        "!git clone https://www.modelscope.cn/damo/speech_fsmn_vad_zh-cn-16k-common-pytorch.git\n",
        "!git clone https://www.modelscope.cn/damo/punc_ct-transformer_zh-cn-common-vocab272727-pytorch.git\n",
        "%cd /content/GPT-SoVITS/tools/uvr5\n",
        "!git clone https://huggingface.co/Delik/uvr5_weights\n",
        "!git config core.sparseCheckout true\n",
        "!mv /content/GPT-SoVITS/GPT_SoVITS/pretrained_models/GPT-SoVITS/* /content/GPT-SoVITS/GPT_SoVITS/pretrained_models/"
      ],
      "metadata": {
        "id": "0NgxXg5sjv7z",
        "cellView": "form"
      },
      "execution_count": null,
      "outputs": []
    },
    {
      "cell_type": "markdown",
      "source": [
        "\n",
        "---\n",
        "\n",
        "模型训练 Model training\n",
        "\n",
        "---"
      ],
      "metadata": {
        "id": "WPy_L49-6Lig"
      }
    },
    {
      "cell_type": "code",
      "source": [
        "#@title WebUI！！ 启动！！！\n",
        "#@markdown launch WebUI\n",
        "!/usr/local/bin/pip install ipykernel\n",
        "!sed -i '10s/False/True/' /content/GPT-SoVITS/config.py\n",
        "%cd /content/GPT-SoVITS/\n",
        "!/usr/local/bin/python  webui.py"
      ],
      "metadata": {
        "id": "4oRGUzkrk8C7",
        "cellView": "form"
      },
      "execution_count": null,
      "outputs": []
    },
    {
      "cell_type": "markdown",
      "source": [
        "\n",
        "\n",
        "---\n",
        "\n",
        "\n",
        "\n",
        "模型文件备份 Model backup (Google Drive)\n",
        "\n",
        "---\n",
        "\n"
      ],
      "metadata": {
        "id": "eCvL5ufs6XAB"
      }
    },
    {
      "cell_type": "code",
      "source": [
        "#@title 备份模型到Google Drive\n",
        "#@markdown Back up model files to Google Drive\n",
        "\n",
        "modlename = input(\"请输入要保存的模型目录名称 Please enter the role name for this training：\")\n",
        "\n",
        "# 创建模型输出目录\n",
        "!mkdir -p /content/drive/MyDrive/GPT_SoVITS/{modlename}/Model_output/GPT_weights\n",
        "!mkdir -p /content/drive/MyDrive/GPT_SoVITS/{modlename}/Model_output/SoVITS_weights\n",
        "print(\"模型输出目录创建成功！\\nThe model output directory is created successfully!\")\n",
        "# 备份模型文件\n",
        "!cp /content/GPT-SoVITS/GPT_weights/* /content/drive/MyDrive/GPT_SoVITS/{modlename}/Model_output/GPT_weights\n",
        "!cp /content/GPT-SoVITS/SoVITS_weights/* /content/drive/MyDrive/GPT_SoVITS/{modlename}/Model_output/SoVITS_weights\n",
        "print(\"备份成功！Google Drive更新可能有延迟，请多刷新\")\n",
        "print(\"Backup successful! Google Drive update may be delayed, please refresh frequently.\")\n",
        "print(\"-------------------------------------\")\n",
        "print(\"请检查GPT_SoVITS/%s/Model_output/GPT_weights目录下是否存在模型文件！ \" % modlename)\n",
        "print(\"请检查GPT_SoVITS/%s/Model_output/SoVITS_weights目录下是否存在模型文件！ \" % modlename)\n",
        "print(\"Please Check GPT_SoVITS/%s/Model_output/GPT_weights \" % modlename)\n",
        "print(\"Please Check GPT_SoVITS/%s/Model_output/SoVITS_weights \" % modlename)\n",
        "print(\"Google Drive：https://drive.google.com/drive/my-drive\")"
      ],
      "metadata": {
        "id": "w-jx8UkinDi5",
        "cellView": "form"
      },
      "execution_count": null,
      "outputs": []
    },
    {
      "cell_type": "code",
      "source": [
        "#@title 备份音频切片和标记文件到Google Drive\n",
        "#@markdown Back up audio slices and tagged files to Google Drive\n",
        "modlename = input(\"请输入要保存的模型目录名称 Please enter the role name for this training：\")\n",
        "!mkdir -p /content/drive/MyDrive/GPT_SoVITS/{modlename}/Audio_output/asr_opt\n",
        "!mkdir -p /content/drive/MyDrive/GPT_SoVITS/{modlename}/Audio_output/slicer_opt\n",
        "print(\"模型输出目录创建成功！\\nThe model output directory is created successfully!\")\n",
        "!cp /content/GPT-SoVITS/output/asr_opt/* /content/drive/MyDrive/GPT_SoVITS/{modlename}/Audio_output/asr_opt\n",
        "!cp /content/GPT-SoVITS/output/slicer_opt/* /content/drive/MyDrive/GPT_SoVITS/{modlename}/Audio_output/slicer_opt\n",
        "print(\"备份成功！Google Drive更新可能有延迟，请多刷新\")\n",
        "print(\"Backup successful! Google Drive update may be delayed, please refresh frequently.\")\n",
        "print(\"-------------------------------------\")\n",
        "print(\"请检查GPT_SoVITS/%s/Audio_output/asr_opt目录下是否存在音频切片文件！ \" % modlename)\n",
        "print(\"请检查GPT_SoVITS/%s/Audio_output/slicer_opt目录下是否存在.list标记文件！ \" % modlename)\n",
        "print(\"Please Check GPT_SoVITS/%s/Audio_output/asr_opt \" % modlename)\n",
        "print(\"Please Check GPT_SoVITS/%s/Audio_output/slicer_opt \" % modlename)\n",
        "print(\"Google Drive：https://drive.google.com/drive/my-drive\")"
      ],
      "metadata": {
        "id": "MkYRrK7snFXY",
        "cellView": "form"
      },
      "execution_count": null,
      "outputs": []
    }
  ]
}